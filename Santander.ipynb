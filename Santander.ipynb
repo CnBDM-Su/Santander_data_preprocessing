{
 "cells": [
  {
   "cell_type": "code",
   "execution_count": 94,
   "metadata": {},
   "outputs": [],
   "source": [
    "import numpy as np\n",
    "import pandas as pd\n",
    "from matplotlib import pyplot as plt\n",
    "import time, datetime"
   ]
  },
  {
   "cell_type": "code",
   "execution_count": 7,
   "metadata": {},
   "outputs": [
    {
     "name": "stderr",
     "output_type": "stream",
     "text": [
      "C:\\Users\\64161\\Anaconda3\\lib\\site-packages\\IPython\\core\\interactiveshell.py:3063: DtypeWarning: Columns (5,8,11,15) have mixed types. Specify dtype option on import or set low_memory=False.\n",
      "  interactivity=interactivity, compiler=compiler, result=result)\n"
     ]
    }
   ],
   "source": [
    "data = pd.read_csv('train_ver2.csv/train_ver2.csv')"
   ]
  },
  {
   "cell_type": "code",
   "execution_count": 53,
   "metadata": {},
   "outputs": [
    {
     "name": "stderr",
     "output_type": "stream",
     "text": [
      "C:\\Users\\64161\\Anaconda3\\lib\\site-packages\\IPython\\core\\interactiveshell.py:3063: DtypeWarning: Columns (15) have mixed types. Specify dtype option on import or set low_memory=False.\n",
      "  interactivity=interactivity, compiler=compiler, result=result)\n"
     ]
    }
   ],
   "source": [
    "data = pd.read_csv('test_ver2.csv/test_ver2.csv')"
   ]
  },
  {
   "cell_type": "code",
   "execution_count": 29,
   "metadata": {
    "collapsed": true
   },
   "outputs": [
    {
     "name": "stdout",
     "output_type": "stream",
     "text": [
      "<class 'pandas.core.frame.DataFrame'>\n",
      "RangeIndex: 13647309 entries, 0 to 13647308\n",
      "Data columns (total 48 columns):\n",
      "fecha_dato               object\n",
      "ncodpers                 int64\n",
      "ind_empleado             object\n",
      "pais_residencia          object\n",
      "sexo                     object\n",
      "age                      object\n",
      "fecha_alta               object\n",
      "ind_nuevo                float64\n",
      "antiguedad               object\n",
      "indrel                   float64\n",
      "ult_fec_cli_1t           object\n",
      "indrel_1mes              object\n",
      "tiprel_1mes              object\n",
      "indresi                  object\n",
      "indext                   object\n",
      "conyuemp                 object\n",
      "canal_entrada            object\n",
      "indfall                  object\n",
      "tipodom                  float64\n",
      "cod_prov                 float64\n",
      "nomprov                  object\n",
      "ind_actividad_cliente    float64\n",
      "renta                    float64\n",
      "segmento                 object\n",
      "ind_ahor_fin_ult1        int64\n",
      "ind_aval_fin_ult1        int64\n",
      "ind_cco_fin_ult1         int64\n",
      "ind_cder_fin_ult1        int64\n",
      "ind_cno_fin_ult1         int64\n",
      "ind_ctju_fin_ult1        int64\n",
      "ind_ctma_fin_ult1        int64\n",
      "ind_ctop_fin_ult1        int64\n",
      "ind_ctpp_fin_ult1        int64\n",
      "ind_deco_fin_ult1        int64\n",
      "ind_deme_fin_ult1        int64\n",
      "ind_dela_fin_ult1        int64\n",
      "ind_ecue_fin_ult1        int64\n",
      "ind_fond_fin_ult1        int64\n",
      "ind_hip_fin_ult1         int64\n",
      "ind_plan_fin_ult1        int64\n",
      "ind_pres_fin_ult1        int64\n",
      "ind_reca_fin_ult1        int64\n",
      "ind_tjcr_fin_ult1        int64\n",
      "ind_valo_fin_ult1        int64\n",
      "ind_viv_fin_ult1         int64\n",
      "ind_nomina_ult1          float64\n",
      "ind_nom_pens_ult1        float64\n",
      "ind_recibo_ult1          int64\n",
      "dtypes: float64(8), int64(23), object(17)\n",
      "memory usage: 4.9+ GB\n"
     ]
    }
   ],
   "source": [
    "data.info()"
   ]
  },
  {
   "cell_type": "code",
   "execution_count": 30,
   "metadata": {},
   "outputs": [],
   "source": [
    "def reduce_mem_usage(df):\n",
    "    \"\"\" iterate through all the columns of a dataframe and modify the data type\n",
    "        to reduce memory usage.        \n",
    "    \"\"\"\n",
    "    start_mem = df.memory_usage().sum() / 1024**2\n",
    "    print('Memory usage of dataframe is {:.2f} MB'.format(start_mem))\n",
    "    \n",
    "    for col in df.columns:\n",
    "        col_type = df[col].dtype\n",
    "        \n",
    "        if col_type != object:\n",
    "            c_min = df[col].min()\n",
    "            c_max = df[col].max()\n",
    "            if str(col_type)[:3] == 'int':\n",
    "                if c_min > np.iinfo(np.int8).min and c_max < np.iinfo(np.int8).max:\n",
    "                    df[col] = df[col].astype(np.int8)\n",
    "                elif c_min > np.iinfo(np.int16).min and c_max < np.iinfo(np.int16).max:\n",
    "                    df[col] = df[col].astype(np.int16)\n",
    "                elif c_min > np.iinfo(np.int32).min and c_max < np.iinfo(np.int32).max:\n",
    "                    df[col] = df[col].astype(np.int32)\n",
    "                elif c_min > np.iinfo(np.int64).min and c_max < np.iinfo(np.int64).max:\n",
    "                    df[col] = df[col].astype(np.int64)  \n",
    "            else:\n",
    "                if c_min > np.finfo(np.float16).min and c_max < np.finfo(np.float16).max:\n",
    "                    df[col] = df[col].astype(np.float16)\n",
    "                elif c_min > np.finfo(np.float32).min and c_max < np.finfo(np.float32).max:\n",
    "                    df[col] = df[col].astype(np.float32)\n",
    "                else:\n",
    "                    df[col] = df[col].astype(np.float64)\n",
    "        else:\n",
    "            df[col] = df[col].astype('category')\n",
    "\n",
    "    end_mem = df.memory_usage().sum() / 1024**2\n",
    "    print('Memory usage after optimization is: {:.2f} MB'.format(end_mem))\n",
    "    print('Decreased by {:.1f}%'.format(100 * (start_mem - end_mem) / start_mem))\n",
    "    \n",
    "    return df"
   ]
  },
  {
   "cell_type": "code",
   "execution_count": 31,
   "metadata": {},
   "outputs": [
    {
     "name": "stdout",
     "output_type": "stream",
     "text": [
      "Memory usage of dataframe is 4997.79 MB\n",
      "Memory usage after optimization is: 859.42 MB\n",
      "Decreased by 82.8%\n"
     ]
    }
   ],
   "source": [
    "data = reduce_mem_usage(data)"
   ]
  },
  {
   "cell_type": "code",
   "execution_count": 71,
   "metadata": {
    "scrolled": true
   },
   "outputs": [
    {
     "data": {
      "text/plain": [
       "Index(['fecha_dato', 'ncodpers', 'ind_empleado', 'pais_residencia', 'sexo',\n",
       "       'age', 'fecha_alta', 'ind_nuevo', 'antiguedad', 'indrel',\n",
       "       'ult_fec_cli_1t', 'indrel_1mes', 'tiprel_1mes', 'indresi', 'indext',\n",
       "       'conyuemp', 'canal_entrada', 'indfall', 'tipodom', 'cod_prov',\n",
       "       'nomprov', 'ind_actividad_cliente', 'renta', 'segmento'],\n",
       "      dtype='object')"
      ]
     },
     "execution_count": 71,
     "metadata": {},
     "output_type": "execute_result"
    }
   ],
   "source": [
    "data.columns"
   ]
  },
  {
   "cell_type": "markdown",
   "metadata": {},
   "source": [
    "## data clean"
   ]
  },
  {
   "cell_type": "code",
   "execution_count": 54,
   "metadata": {},
   "outputs": [
    {
     "data": {
      "text/plain": [
       "array(['2016-06-28T00:00:00.000000000'], dtype='datetime64[ns]')"
      ]
     },
     "execution_count": 54,
     "metadata": {},
     "output_type": "execute_result"
    }
   ],
   "source": [
    "data[\"fecha_dato\"] = pd.to_datetime(data[\"fecha_dato\"],format=\"%Y-%m-%d\")\n",
    "data[\"fecha_alta\"] = pd.to_datetime(data[\"fecha_alta\"],format=\"%Y-%m-%d\")\n",
    "data[\"fecha_dato\"].unique()"
   ]
  },
  {
   "cell_type": "code",
   "execution_count": 55,
   "metadata": {},
   "outputs": [],
   "source": [
    "data[\"month\"] = pd.DatetimeIndex(data[\"fecha_dato\"]).month\n",
    "data[\"age\"]   = pd.to_numeric(data[\"age\"], errors=\"coerce\")\n",
    "data.loc[data.age < 18,\"age\"]  = data.loc[(data.age >= 18) & (data.age <= 30),\"age\"].mean(skipna=True)\n",
    "data.loc[data.age > 100,\"age\"] = data.loc[(data.age >= 30) & (data.age <= 100),\"age\"].mean(skipna=True)\n",
    "data[\"age\"].fillna(data[\"age\"].mean(),inplace=True)\n",
    "data[\"age\"] = data[\"age\"].astype(int)"
   ]
  },
  {
   "cell_type": "code",
   "execution_count": 56,
   "metadata": {},
   "outputs": [],
   "source": [
    "data.loc[data[\"ind_nuevo\"].isnull(),\"ind_nuevo\"] = 1"
   ]
  },
  {
   "cell_type": "code",
   "execution_count": 57,
   "metadata": {},
   "outputs": [],
   "source": [
    "data.antiguedad = pd.to_numeric(data.antiguedad,errors=\"coerce\")\n",
    "data.loc[data.antiguedad.isnull(),\"antiguedad\"] = data.antiguedad.min()\n",
    "data.loc[data.antiguedad <0, \"antiguedad\"] = 0 "
   ]
  },
  {
   "cell_type": "code",
   "execution_count": 58,
   "metadata": {},
   "outputs": [],
   "source": [
    "dates=data.loc[:,\"fecha_alta\"].sort_values().reset_index()\n",
    "median_date = int(np.median(dates.index.values))\n",
    "data.loc[data.fecha_alta.isnull(),\"fecha_alta\"] = dates.loc[median_date,\"fecha_alta\"]\n",
    "# data[\"fecha_alta\"].describe()"
   ]
  },
  {
   "cell_type": "code",
   "execution_count": 59,
   "metadata": {},
   "outputs": [],
   "source": [
    "data.loc[data.indrel.isnull(),\"indrel\"] = 1"
   ]
  },
  {
   "cell_type": "code",
   "execution_count": 60,
   "metadata": {},
   "outputs": [],
   "source": [
    "data.drop([\"tipodom\",\"cod_prov\"],axis=1,inplace=True)"
   ]
  },
  {
   "cell_type": "code",
   "execution_count": 61,
   "metadata": {},
   "outputs": [],
   "source": [
    "data.loc[data.ind_actividad_cliente.isnull(),\"ind_actividad_cliente\"] = \\\n",
    "data[\"ind_actividad_cliente\"].median()"
   ]
  },
  {
   "cell_type": "code",
   "execution_count": 62,
   "metadata": {},
   "outputs": [],
   "source": [
    "data.loc[data.nomprov==\"CORU\\xc3\\x91A, A\",\"nomprov\"] = \"CORUNA, A\"\n",
    "data.loc[data.nomprov.isnull(),\"nomprov\"] = \"UNKNOWN\""
   ]
  },
  {
   "cell_type": "code",
   "execution_count": 63,
   "metadata": {},
   "outputs": [],
   "source": [
    "data.renta = pd.to_numeric(data.renta, errors=\"coerce\")"
   ]
  },
  {
   "cell_type": "code",
   "execution_count": 64,
   "metadata": {},
   "outputs": [
    {
     "name": "stderr",
     "output_type": "stream",
     "text": [
      "C:\\Users\\64161\\Anaconda3\\lib\\site-packages\\pandas\\core\\groupby\\groupby.py:4656: FutureWarning: using a dict with renaming is deprecated and will be removed in a future version\n",
      "  return super(DataFrameGroupBy, self).aggregate(arg, *args, **kwargs)\n",
      "C:\\Users\\64161\\Anaconda3\\lib\\site-packages\\ipykernel_launcher.py:4: FutureWarning: specifying 'categories' or 'ordered' in .astype() is deprecated; pass a CategoricalDtype instead\n",
      "  after removing the cwd from sys.path.\n"
     ]
    }
   ],
   "source": [
    "incomes = data.loc[data.renta.notnull(),:].groupby(\"nomprov\").agg({\"renta\":{\"MedianIncome\":np.median}})\n",
    "incomes.sort_values(by=(\"renta\",\"MedianIncome\"),inplace=True)\n",
    "incomes.reset_index(inplace=True)\n",
    "incomes.nomprov = incomes.nomprov.astype(\"category\", categories=[i for i in data.nomprov.unique()],ordered=False)\n",
    "# incomes.head()"
   ]
  },
  {
   "cell_type": "code",
   "execution_count": 65,
   "metadata": {},
   "outputs": [
    {
     "data": {
      "text/html": [
       "<div>\n",
       "<style scoped>\n",
       "    .dataframe tbody tr th:only-of-type {\n",
       "        vertical-align: middle;\n",
       "    }\n",
       "\n",
       "    .dataframe tbody tr th {\n",
       "        vertical-align: top;\n",
       "    }\n",
       "\n",
       "    .dataframe thead tr th {\n",
       "        text-align: left;\n",
       "    }\n",
       "</style>\n",
       "<table border=\"1\" class=\"dataframe\">\n",
       "  <thead>\n",
       "    <tr>\n",
       "      <th></th>\n",
       "      <th>nomprov</th>\n",
       "      <th>renta</th>\n",
       "    </tr>\n",
       "    <tr>\n",
       "      <th></th>\n",
       "      <th></th>\n",
       "      <th>MedianIncome</th>\n",
       "    </tr>\n",
       "  </thead>\n",
       "  <tbody>\n",
       "    <tr>\n",
       "      <th>0</th>\n",
       "      <td>CIUDAD REAL</td>\n",
       "      <td>62259.930</td>\n",
       "    </tr>\n",
       "    <tr>\n",
       "      <th>1</th>\n",
       "      <td>BADAJOZ</td>\n",
       "      <td>62309.280</td>\n",
       "    </tr>\n",
       "    <tr>\n",
       "      <th>2</th>\n",
       "      <td>LUGO</td>\n",
       "      <td>64319.265</td>\n",
       "    </tr>\n",
       "    <tr>\n",
       "      <th>3</th>\n",
       "      <td>LERIDA</td>\n",
       "      <td>64776.450</td>\n",
       "    </tr>\n",
       "    <tr>\n",
       "      <th>4</th>\n",
       "      <td>CASTELLON</td>\n",
       "      <td>66461.640</td>\n",
       "    </tr>\n",
       "  </tbody>\n",
       "</table>\n",
       "</div>"
      ],
      "text/plain": [
       "       nomprov        renta\n",
       "               MedianIncome\n",
       "0  CIUDAD REAL    62259.930\n",
       "1      BADAJOZ    62309.280\n",
       "2         LUGO    64319.265\n",
       "3       LERIDA    64776.450\n",
       "4    CASTELLON    66461.640"
      ]
     },
     "execution_count": 65,
     "metadata": {},
     "output_type": "execute_result"
    }
   ],
   "source": [
    "incomes.head()"
   ]
  },
  {
   "cell_type": "code",
   "execution_count": 66,
   "metadata": {},
   "outputs": [],
   "source": [
    "grouped        = data.groupby(\"nomprov\").agg({\"renta\":lambda x: x.median(skipna=True)}).reset_index()\n",
    "new_incomes    = pd.merge(data,grouped,how=\"inner\",on=\"nomprov\").loc[:, [\"nomprov\",\"renta_y\"]]\n",
    "new_incomes    = new_incomes.rename(columns={\"renta_y\":\"renta\"}).sort_values(\"renta\").sort_values(\"nomprov\")\n",
    "data.sort_values(\"nomprov\",inplace=True)\n",
    "data             = data.reset_index()\n",
    "new_incomes    = new_incomes.reset_index()"
   ]
  },
  {
   "cell_type": "code",
   "execution_count": 67,
   "metadata": {},
   "outputs": [],
   "source": [
    "data.loc[data.renta.isnull(),\"renta\"] = new_incomes.loc[data.renta.isnull(),\"renta\"].reset_index()\n",
    "data.loc[data.renta.isnull(),\"renta\"] = data.loc[data.renta.notnull(),\"renta\"].median()\n",
    "data.sort_values(by=\"fecha_dato\",inplace=True)"
   ]
  },
  {
   "cell_type": "code",
   "execution_count": 68,
   "metadata": {
    "collapsed": true
   },
   "outputs": [
    {
     "ename": "AttributeError",
     "evalue": "'DataFrame' object has no attribute 'ind_nomina_ult1'",
     "output_type": "error",
     "traceback": [
      "\u001b[1;31m---------------------------------------------------------------------------\u001b[0m",
      "\u001b[1;31mAttributeError\u001b[0m                            Traceback (most recent call last)",
      "\u001b[1;32m<ipython-input-68-db77c517d808>\u001b[0m in \u001b[0;36m<module>\u001b[1;34m\u001b[0m\n\u001b[1;32m----> 1\u001b[1;33m \u001b[0mdata\u001b[0m\u001b[1;33m.\u001b[0m\u001b[0mloc\u001b[0m\u001b[1;33m[\u001b[0m\u001b[0mdata\u001b[0m\u001b[1;33m.\u001b[0m\u001b[0mind_nomina_ult1\u001b[0m\u001b[1;33m.\u001b[0m\u001b[0misnull\u001b[0m\u001b[1;33m(\u001b[0m\u001b[1;33m)\u001b[0m\u001b[1;33m,\u001b[0m \u001b[1;34m\"ind_nomina_ult1\"\u001b[0m\u001b[1;33m]\u001b[0m \u001b[1;33m=\u001b[0m \u001b[1;36m0\u001b[0m\u001b[1;33m\u001b[0m\u001b[1;33m\u001b[0m\u001b[0m\n\u001b[0m\u001b[0;32m      2\u001b[0m \u001b[0mdata\u001b[0m\u001b[1;33m.\u001b[0m\u001b[0mloc\u001b[0m\u001b[1;33m[\u001b[0m\u001b[0mdata\u001b[0m\u001b[1;33m.\u001b[0m\u001b[0mind_nom_pens_ult1\u001b[0m\u001b[1;33m.\u001b[0m\u001b[0misnull\u001b[0m\u001b[1;33m(\u001b[0m\u001b[1;33m)\u001b[0m\u001b[1;33m,\u001b[0m \u001b[1;34m\"ind_nom_pens_ult1\"\u001b[0m\u001b[1;33m]\u001b[0m \u001b[1;33m=\u001b[0m \u001b[1;36m0\u001b[0m\u001b[1;33m\u001b[0m\u001b[1;33m\u001b[0m\u001b[0m\n",
      "\u001b[1;32m~\\Anaconda3\\lib\\site-packages\\pandas\\core\\generic.py\u001b[0m in \u001b[0;36m__getattr__\u001b[1;34m(self, name)\u001b[0m\n\u001b[0;32m   4374\u001b[0m             \u001b[1;32mif\u001b[0m \u001b[0mself\u001b[0m\u001b[1;33m.\u001b[0m\u001b[0m_info_axis\u001b[0m\u001b[1;33m.\u001b[0m\u001b[0m_can_hold_identifiers_and_holds_name\u001b[0m\u001b[1;33m(\u001b[0m\u001b[0mname\u001b[0m\u001b[1;33m)\u001b[0m\u001b[1;33m:\u001b[0m\u001b[1;33m\u001b[0m\u001b[1;33m\u001b[0m\u001b[0m\n\u001b[0;32m   4375\u001b[0m                 \u001b[1;32mreturn\u001b[0m \u001b[0mself\u001b[0m\u001b[1;33m[\u001b[0m\u001b[0mname\u001b[0m\u001b[1;33m]\u001b[0m\u001b[1;33m\u001b[0m\u001b[1;33m\u001b[0m\u001b[0m\n\u001b[1;32m-> 4376\u001b[1;33m             \u001b[1;32mreturn\u001b[0m \u001b[0mobject\u001b[0m\u001b[1;33m.\u001b[0m\u001b[0m__getattribute__\u001b[0m\u001b[1;33m(\u001b[0m\u001b[0mself\u001b[0m\u001b[1;33m,\u001b[0m \u001b[0mname\u001b[0m\u001b[1;33m)\u001b[0m\u001b[1;33m\u001b[0m\u001b[1;33m\u001b[0m\u001b[0m\n\u001b[0m\u001b[0;32m   4377\u001b[0m \u001b[1;33m\u001b[0m\u001b[0m\n\u001b[0;32m   4378\u001b[0m     \u001b[1;32mdef\u001b[0m \u001b[0m__setattr__\u001b[0m\u001b[1;33m(\u001b[0m\u001b[0mself\u001b[0m\u001b[1;33m,\u001b[0m \u001b[0mname\u001b[0m\u001b[1;33m,\u001b[0m \u001b[0mvalue\u001b[0m\u001b[1;33m)\u001b[0m\u001b[1;33m:\u001b[0m\u001b[1;33m\u001b[0m\u001b[1;33m\u001b[0m\u001b[0m\n",
      "\u001b[1;31mAttributeError\u001b[0m: 'DataFrame' object has no attribute 'ind_nomina_ult1'"
     ]
    }
   ],
   "source": [
    "data.loc[data.ind_nomina_ult1.isnull(), \"ind_nomina_ult1\"] = 0\n",
    "data.loc[data.ind_nom_pens_ult1.isnull(), \"ind_nom_pens_ult1\"] = 0"
   ]
  },
  {
   "cell_type": "code",
   "execution_count": 69,
   "metadata": {},
   "outputs": [
    {
     "name": "stdout",
     "output_type": "stream",
     "text": [
      "Unique values for sexo:\n",
      "['H' 'V' nan]\n",
      "\n",
      "Unique values for ult_fec_cli_1t:\n",
      "[nan '2016-06-07' '2016-06-01' '2016-06-28' '2016-06-10' '2016-06-15'\n",
      " '2016-06-20' '2016-06-16' '2016-06-21' '2016-06-13' '2016-06-23'\n",
      " '2016-06-27' '2016-06-06' '2016-06-22' '2016-06-17' '2016-06-03'\n",
      " '2016-06-09' '2016-06-29' '2016-06-02' '2016-06-08' '2016-06-14'\n",
      " '2016-06-24']\n",
      "\n",
      "Unique values for tiprel_1mes:\n",
      "['I' 'A' 'P' nan]\n",
      "\n",
      "Unique values for conyuemp:\n",
      "[nan 'N' 'S']\n",
      "\n",
      "Unique values for canal_entrada:\n",
      "['KHE' 'KAT' 'KFA' 'KCC' 'KFC' 'KAG' 'KAW' 'KBZ' 'KHK' 'KCI' 'KBF' 'KHF'\n",
      " 'KHM' 'KHN' 'KAB' 'KCH' nan 'KAZ' 'KFD' 'KAH' '007' 'RED' 'KAF' 'KHO'\n",
      " 'KFT' 'KAY' 'KAR' 'KAP' 'KEW' 'KHL' 'KEO' 'KAS' 'KES' 'KEL' 'KAD' 'KHC'\n",
      " 'KAQ' 'KHQ' 'KBQ' 'KAJ' '013' 'KCF' 'KEV' 'KCG' 'KAE' 'KGX' 'KBM' 'KEZ'\n",
      " 'KAI' 'KBJ' 'KEM' 'KAA' 'KAO' 'KBH' 'KAK' 'KEY' 'KEJ' 'KCA' 'KCB' 'KCD'\n",
      " 'KBR' 'KAL' 'KBL' 'KBB' 'KBU' 'KCE' 'KBO' 'KCJ' 'KDM' 'KAM' 'KFM' 'KDR'\n",
      " 'KAC' 'KBG' 'KHD' 'KEN' 'KCO' 'K00' 'KHS' 'KFU' 'KGV' 'KFJ' 'KFN' 'KFH'\n",
      " 'KEH' 'KDD' 'KDU' 'KDY' 'KFG' 'KED' 'KCL' 'KFV' 'KEU' 'KHP' 'KDV' 'KGY'\n",
      " 'KDX' 'KDZ' 'KFI' 'KFP' 'KDT' 'KGU' 'KEI' 'KEG' '004' 'KEQ' 'KFB' 'KEK'\n",
      " 'KFS' 'KBS' 'KBD' 'KBW' 'KBV' 'KBE' 'KBN' 'KBY' 'KDE' 'KDS' 'KDC' 'KBX'\n",
      " 'KBP' 'KCM' 'KEF' 'KCU' 'KAN' 'KAV' 'KDQ' 'KDH' 'KCP' 'KCK' 'KEA' 'KFF'\n",
      " 'KFL' 'KGW' 'KCS' 'KDG' 'KDW' 'KDN' 'KCN' 'KCR' 'KDO' 'KAU' 'KCQ' 'KFE'\n",
      " 'KFK' 'KDA' 'KEC' 'KDP' '025' 'KEB' 'KHA' 'KEE' 'KFR' 'KDF' 'KGC' 'KDI'\n",
      " 'KCV' 'KCT' 'KCX' 'KDB' 'KHR' 'KDL' 'KGN']\n",
      "\n",
      "Unique values for segmento:\n",
      "['03 - UNIVERSITARIO' '02 - PARTICULARES' '01 - TOP' nan]\n",
      "\n"
     ]
    }
   ],
   "source": [
    "string_data = data.select_dtypes(include=[\"object\"])\n",
    "missing_columns = [col for col in string_data if string_data[col].isnull().any()]\n",
    "for col in missing_columns:\n",
    "    print(\"Unique values for {0}:\\n{1}\\n\".format(col,string_data[col].unique()))\n",
    "del string_data"
   ]
  },
  {
   "cell_type": "code",
   "execution_count": 70,
   "metadata": {},
   "outputs": [],
   "source": [
    "data.loc[data.indfall.isnull(),\"indfall\"] = \"N\"\n",
    "data.loc[data.tiprel_1mes.isnull(),\"tiprel_1mes\"] = \"A\"\n",
    "data.tiprel_1mes = data.tiprel_1mes.astype(\"category\")\n",
    "map_dict = { 1.0  : \"1\",\n",
    "            \"1.0\" : \"1\",\n",
    "            \"1\"   : \"1\",\n",
    "            1     : \"1\",\n",
    "            2     : \"2\",\n",
    "            3     : \"3\",\n",
    "            \"3.0\" : \"3\",\n",
    "            \"P\"   : \"P\",\n",
    "            3.0   : \"3\",\n",
    "            2.0   : \"2\",\n",
    "            \"3\"   : \"3\",\n",
    "            \"2.0\" : \"2\",\n",
    "            4.0   : \"4\",\n",
    "            \"4.0\" : \"4\",\n",
    "            \"4\"   : \"4\",\n",
    "            \"2\"   : \"2\"}\n",
    "\n",
    "data.indrel_1mes.fillna(\"P\",inplace=True)\n",
    "data.indrel_1mes = data.indrel_1mes.apply(lambda x: map_dict.get(x,x))\n",
    "data.indrel_1mes = data.indrel_1mes.astype(\"category\")\n",
    "unknown_cols = [col for col in missing_columns if col not in [\"indfall\",\"tiprel_1mes\",\"indrel_1mes\"]]\n",
    "for col in unknown_cols:\n",
    "    data.loc[data[col].isnull(),col] = \"UNKNOWN\""
   ]
  },
  {
   "cell_type": "code",
   "execution_count": 71,
   "metadata": {},
   "outputs": [],
   "source": [
    "feature_cols = data.iloc[:1,].filter(regex=\"ind_+.*ult.*\").columns.values\n",
    "for col in feature_cols:\n",
    "    data[col] = data[col].astype(int)"
   ]
  },
  {
   "cell_type": "code",
   "execution_count": 72,
   "metadata": {},
   "outputs": [
    {
     "data": {
      "text/plain": [
       "index                    0\n",
       "fecha_dato               0\n",
       "ncodpers                 0\n",
       "ind_empleado             0\n",
       "pais_residencia          0\n",
       "sexo                     0\n",
       "age                      0\n",
       "fecha_alta               0\n",
       "ind_nuevo                0\n",
       "antiguedad               0\n",
       "indrel                   0\n",
       "ult_fec_cli_1t           0\n",
       "indrel_1mes              0\n",
       "tiprel_1mes              0\n",
       "indresi                  0\n",
       "indext                   0\n",
       "conyuemp                 0\n",
       "canal_entrada            0\n",
       "indfall                  0\n",
       "nomprov                  0\n",
       "ind_actividad_cliente    0\n",
       "renta                    0\n",
       "segmento                 0\n",
       "month                    0\n",
       "dtype: int64"
      ]
     },
     "execution_count": 72,
     "metadata": {},
     "output_type": "execute_result"
    }
   ],
   "source": [
    "data.isna().sum()"
   ]
  },
  {
   "cell_type": "markdown",
   "metadata": {},
   "source": []
  },
  {
   "cell_type": "code",
   "execution_count": 27,
   "metadata": {},
   "outputs": [],
   "source": [
    "product = data.columns[23:-1]"
   ]
  },
  {
   "cell_type": "code",
   "execution_count": 91,
   "metadata": {},
   "outputs": [
    {
     "data": {
      "text/html": [
       "<div>\n",
       "<style scoped>\n",
       "    .dataframe tbody tr th:only-of-type {\n",
       "        vertical-align: middle;\n",
       "    }\n",
       "\n",
       "    .dataframe tbody tr th {\n",
       "        vertical-align: top;\n",
       "    }\n",
       "\n",
       "    .dataframe thead th {\n",
       "        text-align: right;\n",
       "    }\n",
       "</style>\n",
       "<table border=\"1\" class=\"dataframe\">\n",
       "  <thead>\n",
       "    <tr style=\"text-align: right;\">\n",
       "      <th></th>\n",
       "      <th>ind_ahor_fin_ult1</th>\n",
       "      <th>ind_aval_fin_ult1</th>\n",
       "      <th>ind_cco_fin_ult1</th>\n",
       "      <th>ind_cder_fin_ult1</th>\n",
       "      <th>ind_cno_fin_ult1</th>\n",
       "      <th>ind_ctju_fin_ult1</th>\n",
       "      <th>ind_ctma_fin_ult1</th>\n",
       "      <th>ind_ctop_fin_ult1</th>\n",
       "      <th>ind_ctpp_fin_ult1</th>\n",
       "      <th>ind_deco_fin_ult1</th>\n",
       "      <th>...</th>\n",
       "      <th>ind_hip_fin_ult1</th>\n",
       "      <th>ind_plan_fin_ult1</th>\n",
       "      <th>ind_pres_fin_ult1</th>\n",
       "      <th>ind_reca_fin_ult1</th>\n",
       "      <th>ind_tjcr_fin_ult1</th>\n",
       "      <th>ind_valo_fin_ult1</th>\n",
       "      <th>ind_viv_fin_ult1</th>\n",
       "      <th>ind_nomina_ult1</th>\n",
       "      <th>ind_nom_pens_ult1</th>\n",
       "      <th>ind_recibo_ult1</th>\n",
       "    </tr>\n",
       "  </thead>\n",
       "  <tbody>\n",
       "    <tr>\n",
       "      <th>3193878</th>\n",
       "      <td>0</td>\n",
       "      <td>0</td>\n",
       "      <td>1</td>\n",
       "      <td>0</td>\n",
       "      <td>0</td>\n",
       "      <td>0</td>\n",
       "      <td>0</td>\n",
       "      <td>0</td>\n",
       "      <td>1</td>\n",
       "      <td>0</td>\n",
       "      <td>...</td>\n",
       "      <td>0</td>\n",
       "      <td>0</td>\n",
       "      <td>0</td>\n",
       "      <td>0</td>\n",
       "      <td>0</td>\n",
       "      <td>0</td>\n",
       "      <td>0</td>\n",
       "      <td>0</td>\n",
       "      <td>0</td>\n",
       "      <td>0</td>\n",
       "    </tr>\n",
       "    <tr>\n",
       "      <th>11981689</th>\n",
       "      <td>0</td>\n",
       "      <td>0</td>\n",
       "      <td>1</td>\n",
       "      <td>0</td>\n",
       "      <td>0</td>\n",
       "      <td>0</td>\n",
       "      <td>0</td>\n",
       "      <td>0</td>\n",
       "      <td>0</td>\n",
       "      <td>0</td>\n",
       "      <td>...</td>\n",
       "      <td>0</td>\n",
       "      <td>0</td>\n",
       "      <td>0</td>\n",
       "      <td>0</td>\n",
       "      <td>0</td>\n",
       "      <td>0</td>\n",
       "      <td>0</td>\n",
       "      <td>0</td>\n",
       "      <td>0</td>\n",
       "      <td>0</td>\n",
       "    </tr>\n",
       "    <tr>\n",
       "      <th>3521925</th>\n",
       "      <td>0</td>\n",
       "      <td>0</td>\n",
       "      <td>0</td>\n",
       "      <td>0</td>\n",
       "      <td>1</td>\n",
       "      <td>0</td>\n",
       "      <td>0</td>\n",
       "      <td>0</td>\n",
       "      <td>0</td>\n",
       "      <td>0</td>\n",
       "      <td>...</td>\n",
       "      <td>0</td>\n",
       "      <td>0</td>\n",
       "      <td>0</td>\n",
       "      <td>0</td>\n",
       "      <td>0</td>\n",
       "      <td>0</td>\n",
       "      <td>0</td>\n",
       "      <td>0</td>\n",
       "      <td>0</td>\n",
       "      <td>0</td>\n",
       "    </tr>\n",
       "    <tr>\n",
       "      <th>8480398</th>\n",
       "      <td>0</td>\n",
       "      <td>0</td>\n",
       "      <td>0</td>\n",
       "      <td>0</td>\n",
       "      <td>0</td>\n",
       "      <td>1</td>\n",
       "      <td>0</td>\n",
       "      <td>0</td>\n",
       "      <td>0</td>\n",
       "      <td>0</td>\n",
       "      <td>...</td>\n",
       "      <td>0</td>\n",
       "      <td>0</td>\n",
       "      <td>0</td>\n",
       "      <td>0</td>\n",
       "      <td>0</td>\n",
       "      <td>0</td>\n",
       "      <td>0</td>\n",
       "      <td>0</td>\n",
       "      <td>0</td>\n",
       "      <td>0</td>\n",
       "    </tr>\n",
       "    <tr>\n",
       "      <th>3521923</th>\n",
       "      <td>0</td>\n",
       "      <td>0</td>\n",
       "      <td>1</td>\n",
       "      <td>0</td>\n",
       "      <td>0</td>\n",
       "      <td>0</td>\n",
       "      <td>0</td>\n",
       "      <td>0</td>\n",
       "      <td>0</td>\n",
       "      <td>0</td>\n",
       "      <td>...</td>\n",
       "      <td>0</td>\n",
       "      <td>0</td>\n",
       "      <td>0</td>\n",
       "      <td>0</td>\n",
       "      <td>0</td>\n",
       "      <td>0</td>\n",
       "      <td>0</td>\n",
       "      <td>0</td>\n",
       "      <td>0</td>\n",
       "      <td>0</td>\n",
       "    </tr>\n",
       "  </tbody>\n",
       "</table>\n",
       "<p>5 rows × 24 columns</p>\n",
       "</div>"
      ],
      "text/plain": [
       "          ind_ahor_fin_ult1  ind_aval_fin_ult1  ind_cco_fin_ult1  \\\n",
       "3193878                   0                  0                 1   \n",
       "11981689                  0                  0                 1   \n",
       "3521925                   0                  0                 0   \n",
       "8480398                   0                  0                 0   \n",
       "3521923                   0                  0                 1   \n",
       "\n",
       "          ind_cder_fin_ult1  ind_cno_fin_ult1  ind_ctju_fin_ult1  \\\n",
       "3193878                   0                 0                  0   \n",
       "11981689                  0                 0                  0   \n",
       "3521925                   0                 1                  0   \n",
       "8480398                   0                 0                  1   \n",
       "3521923                   0                 0                  0   \n",
       "\n",
       "          ind_ctma_fin_ult1  ind_ctop_fin_ult1  ind_ctpp_fin_ult1  \\\n",
       "3193878                   0                  0                  1   \n",
       "11981689                  0                  0                  0   \n",
       "3521925                   0                  0                  0   \n",
       "8480398                   0                  0                  0   \n",
       "3521923                   0                  0                  0   \n",
       "\n",
       "          ind_deco_fin_ult1       ...         ind_hip_fin_ult1  \\\n",
       "3193878                   0       ...                        0   \n",
       "11981689                  0       ...                        0   \n",
       "3521925                   0       ...                        0   \n",
       "8480398                   0       ...                        0   \n",
       "3521923                   0       ...                        0   \n",
       "\n",
       "          ind_plan_fin_ult1  ind_pres_fin_ult1  ind_reca_fin_ult1  \\\n",
       "3193878                   0                  0                  0   \n",
       "11981689                  0                  0                  0   \n",
       "3521925                   0                  0                  0   \n",
       "8480398                   0                  0                  0   \n",
       "3521923                   0                  0                  0   \n",
       "\n",
       "          ind_tjcr_fin_ult1  ind_valo_fin_ult1  ind_viv_fin_ult1  \\\n",
       "3193878                   0                  0                 0   \n",
       "11981689                  0                  0                 0   \n",
       "3521925                   0                  0                 0   \n",
       "8480398                   0                  0                 0   \n",
       "3521923                   0                  0                 0   \n",
       "\n",
       "          ind_nomina_ult1  ind_nom_pens_ult1  ind_recibo_ult1  \n",
       "3193878                 0                  0                0  \n",
       "11981689                0                  0                0  \n",
       "3521925                 0                  0                0  \n",
       "8480398                 0                  0                0  \n",
       "3521923                 0                  0                0  \n",
       "\n",
       "[5 rows x 24 columns]"
      ]
     },
     "execution_count": 91,
     "metadata": {},
     "output_type": "execute_result"
    }
   ],
   "source": [
    "data.iloc[:,23:-1].head()"
   ]
  },
  {
   "cell_type": "code",
   "execution_count": 31,
   "metadata": {},
   "outputs": [],
   "source": [
    "timeline = pd.to_datetime('2015-12-28',format=\"%Y-%m-%d\")\n",
    "data_6 = data.loc[data.fecha_dato>=timeline]"
   ]
  },
  {
   "cell_type": "code",
   "execution_count": 32,
   "metadata": {},
   "outputs": [],
   "source": [
    "pro = data_6.groupby('ncodpers').agg({'ind_ahor_fin_ult1':np.sum}).reset_index()\n",
    "for i in range(len(product)-1):\n",
    "    b = data_6.groupby('ncodpers').agg({product[i+1]:np.sum}).reset_index()\n",
    "    pro = pd.merge(pro,b,on=\"ncodpers\")"
   ]
  },
  {
   "cell_type": "code",
   "execution_count": 30,
   "metadata": {},
   "outputs": [],
   "source": [
    "pd.DataFrame(product).to_csv(\"product_index.csv\")"
   ]
  },
  {
   "cell_type": "code",
   "execution_count": 33,
   "metadata": {
    "collapsed": true
   },
   "outputs": [
    {
     "name": "stdout",
     "output_type": "stream",
     "text": [
      "0\n",
      "10000\n",
      "20000\n",
      "30000\n",
      "40000\n",
      "50000\n",
      "60000\n",
      "70000\n",
      "80000\n",
      "90000\n",
      "100000\n",
      "110000\n",
      "120000\n",
      "130000\n",
      "140000\n",
      "150000\n",
      "160000\n",
      "170000\n",
      "180000\n",
      "190000\n",
      "200000\n",
      "210000\n",
      "220000\n",
      "230000\n",
      "240000\n",
      "250000\n",
      "260000\n",
      "270000\n",
      "280000\n",
      "290000\n",
      "300000\n",
      "310000\n",
      "320000\n",
      "330000\n",
      "340000\n",
      "350000\n",
      "360000\n",
      "370000\n",
      "380000\n",
      "390000\n",
      "400000\n",
      "410000\n",
      "420000\n",
      "430000\n",
      "440000\n",
      "450000\n",
      "460000\n",
      "470000\n",
      "480000\n",
      "490000\n",
      "500000\n",
      "510000\n",
      "520000\n",
      "530000\n",
      "540000\n",
      "550000\n",
      "560000\n",
      "570000\n",
      "580000\n",
      "590000\n",
      "600000\n",
      "610000\n",
      "620000\n",
      "630000\n",
      "640000\n",
      "650000\n",
      "660000\n",
      "670000\n",
      "680000\n",
      "690000\n",
      "700000\n",
      "710000\n",
      "720000\n",
      "730000\n",
      "740000\n",
      "750000\n",
      "760000\n",
      "770000\n",
      "780000\n",
      "790000\n",
      "800000\n",
      "810000\n",
      "820000\n",
      "830000\n",
      "840000\n",
      "850000\n",
      "860000\n",
      "870000\n",
      "880000\n",
      "890000\n",
      "900000\n",
      "910000\n",
      "920000\n",
      "930000\n",
      "940000\n"
     ]
    }
   ],
   "source": [
    "mat = np.array(['user','product','times'])\n",
    "mat_v = []\n",
    "for i, row in pro.iterrows():\n",
    "    for j in range(1,pro.shape[1]):\n",
    "        if row[j] != 0:\n",
    "            tmp = np.array([row[0],j-1,row[j]])\n",
    "            mat_v.append(tmp)\n",
    "            #mat = np.concatenate([mat,tmp],axis=0)\n",
    "    if i%10000 ==0:\n",
    "        print(i)"
   ]
  },
  {
   "cell_type": "code",
   "execution_count": 34,
   "metadata": {},
   "outputs": [],
   "source": [
    "mat = np.array(mat_v)\n",
    "mat = pd.DataFrame(mat)\n",
    "mat.columns=['ncodpers','item_id','times']\n",
    "mat.ncodpers = mat.ncodpers.astype('int64')"
   ]
  },
  {
   "cell_type": "code",
   "execution_count": 35,
   "metadata": {},
   "outputs": [],
   "source": [
    "anti= data_6.groupby('ncodpers').agg({'antiguedad':max}).reset_index()\n",
    "age = data_6.groupby('ncodpers').agg({'age':max}).reset_index()\n",
    "ind_n = data_6.groupby('ncodpers').agg({'ind_nuevo':min}).reset_index()\n",
    "renta = data_6.groupby('ncodpers').agg({'renta':np.mean}).reset_index()"
   ]
  },
  {
   "cell_type": "code",
   "execution_count": 36,
   "metadata": {},
   "outputs": [],
   "source": [
    "data_6 = data_6.drop(['antiguedad'],1)\n",
    "data_6n = pd.merge(data_6,anti,how=\"inner\",on=\"ncodpers\")"
   ]
  },
  {
   "cell_type": "code",
   "execution_count": 37,
   "metadata": {},
   "outputs": [],
   "source": [
    "data_6n = data_6n.drop(['ind_nuevo','renta','age'],1)\n",
    "data_6n = pd.merge(data_6n,age,how=\"inner\",on=\"ncodpers\")\n",
    "data_6n = pd.merge(data_6n,ind_n,how=\"inner\",on=\"ncodpers\")\n",
    "data_6n = pd.merge(data_6n,renta,how=\"inner\",on=\"ncodpers\")"
   ]
  },
  {
   "cell_type": "code",
   "execution_count": 38,
   "metadata": {},
   "outputs": [],
   "source": [
    "data_6n = pd.concat([data_6n.iloc[:,1:19],data_6n.iloc[:,-4:]],1)"
   ]
  },
  {
   "cell_type": "code",
   "execution_count": 39,
   "metadata": {},
   "outputs": [],
   "source": [
    "t = pd.to_datetime('2016-05-28',format=\"%Y-%m-%d\")\n",
    "data_6n = data_6n.loc[data_6n.fecha_dato==t]"
   ]
  },
  {
   "cell_type": "code",
   "execution_count": 104,
   "metadata": {},
   "outputs": [
    {
     "data": {
      "text/plain": [
       "(931453, 22)"
      ]
     },
     "execution_count": 104,
     "metadata": {},
     "output_type": "execute_result"
    }
   ],
   "source": [
    "data_6n.shape"
   ]
  },
  {
   "cell_type": "code",
   "execution_count": 40,
   "metadata": {},
   "outputs": [],
   "source": [
    "data_6n = data_6n.drop(['fecha_dato'],1)"
   ]
  },
  {
   "cell_type": "code",
   "execution_count": 41,
   "metadata": {},
   "outputs": [],
   "source": [
    "final = pd.merge(data_6n,mat,on='ncodpers')"
   ]
  },
  {
   "cell_type": "code",
   "execution_count": null,
   "metadata": {},
   "outputs": [],
   "source": [
    "def time_change(data):\n",
    "    timeArray = time.strptime(data, \"%Y-%m-%d\")\n",
    "    timeStamp = int(time.mktime(timeArray))\n",
    "    return timeStamp\n",
    "final.fecha_alta = final.fecha_alta.apply(lambda x: time_change(x))"
   ]
  },
  {
   "cell_type": "code",
   "execution_count": 42,
   "metadata": {
    "collapsed": true
   },
   "outputs": [
    {
     "data": {
      "text/html": [
       "<div>\n",
       "<style scoped>\n",
       "    .dataframe tbody tr th:only-of-type {\n",
       "        vertical-align: middle;\n",
       "    }\n",
       "\n",
       "    .dataframe tbody tr th {\n",
       "        vertical-align: top;\n",
       "    }\n",
       "\n",
       "    .dataframe thead th {\n",
       "        text-align: right;\n",
       "    }\n",
       "</style>\n",
       "<table border=\"1\" class=\"dataframe\">\n",
       "  <thead>\n",
       "    <tr style=\"text-align: right;\">\n",
       "      <th></th>\n",
       "      <th>ncodpers</th>\n",
       "      <th>ind_empleado</th>\n",
       "      <th>pais_residencia</th>\n",
       "      <th>sexo</th>\n",
       "      <th>fecha_alta</th>\n",
       "      <th>indrel</th>\n",
       "      <th>ult_fec_cli_1t</th>\n",
       "      <th>indrel_1mes</th>\n",
       "      <th>tiprel_1mes</th>\n",
       "      <th>indresi</th>\n",
       "      <th>...</th>\n",
       "      <th>indfall</th>\n",
       "      <th>nomprov</th>\n",
       "      <th>ind_actividad_cliente</th>\n",
       "      <th>segmento</th>\n",
       "      <th>antiguedad</th>\n",
       "      <th>age</th>\n",
       "      <th>ind_nuevo</th>\n",
       "      <th>renta</th>\n",
       "      <th>item_id</th>\n",
       "      <th>times</th>\n",
       "    </tr>\n",
       "  </thead>\n",
       "  <tbody>\n",
       "    <tr>\n",
       "      <th>0</th>\n",
       "      <td>307567</td>\n",
       "      <td>N</td>\n",
       "      <td>ES</td>\n",
       "      <td>H</td>\n",
       "      <td>2001-12-14</td>\n",
       "      <td>1.0</td>\n",
       "      <td>UNKNOWN</td>\n",
       "      <td>1</td>\n",
       "      <td>I</td>\n",
       "      <td>S</td>\n",
       "      <td>...</td>\n",
       "      <td>N</td>\n",
       "      <td>MADRID</td>\n",
       "      <td>0.0</td>\n",
       "      <td>02 - PARTICULARES</td>\n",
       "      <td>173.0</td>\n",
       "      <td>44</td>\n",
       "      <td>0.0</td>\n",
       "      <td>82130.55</td>\n",
       "      <td>2</td>\n",
       "      <td>6</td>\n",
       "    </tr>\n",
       "    <tr>\n",
       "      <th>1</th>\n",
       "      <td>307567</td>\n",
       "      <td>N</td>\n",
       "      <td>ES</td>\n",
       "      <td>H</td>\n",
       "      <td>2001-12-14</td>\n",
       "      <td>1.0</td>\n",
       "      <td>UNKNOWN</td>\n",
       "      <td>1</td>\n",
       "      <td>I</td>\n",
       "      <td>S</td>\n",
       "      <td>...</td>\n",
       "      <td>N</td>\n",
       "      <td>MADRID</td>\n",
       "      <td>0.0</td>\n",
       "      <td>02 - PARTICULARES</td>\n",
       "      <td>173.0</td>\n",
       "      <td>44</td>\n",
       "      <td>0.0</td>\n",
       "      <td>82130.55</td>\n",
       "      <td>7</td>\n",
       "      <td>6</td>\n",
       "    </tr>\n",
       "    <tr>\n",
       "      <th>2</th>\n",
       "      <td>241712</td>\n",
       "      <td>N</td>\n",
       "      <td>ES</td>\n",
       "      <td>V</td>\n",
       "      <td>2001-04-23</td>\n",
       "      <td>1.0</td>\n",
       "      <td>UNKNOWN</td>\n",
       "      <td>1</td>\n",
       "      <td>A</td>\n",
       "      <td>S</td>\n",
       "      <td>...</td>\n",
       "      <td>N</td>\n",
       "      <td>MADRID</td>\n",
       "      <td>1.0</td>\n",
       "      <td>02 - PARTICULARES</td>\n",
       "      <td>181.0</td>\n",
       "      <td>79</td>\n",
       "      <td>0.0</td>\n",
       "      <td>42072.51</td>\n",
       "      <td>2</td>\n",
       "      <td>6</td>\n",
       "    </tr>\n",
       "    <tr>\n",
       "      <th>3</th>\n",
       "      <td>241712</td>\n",
       "      <td>N</td>\n",
       "      <td>ES</td>\n",
       "      <td>V</td>\n",
       "      <td>2001-04-23</td>\n",
       "      <td>1.0</td>\n",
       "      <td>UNKNOWN</td>\n",
       "      <td>1</td>\n",
       "      <td>A</td>\n",
       "      <td>S</td>\n",
       "      <td>...</td>\n",
       "      <td>N</td>\n",
       "      <td>MADRID</td>\n",
       "      <td>1.0</td>\n",
       "      <td>02 - PARTICULARES</td>\n",
       "      <td>181.0</td>\n",
       "      <td>79</td>\n",
       "      <td>0.0</td>\n",
       "      <td>42072.51</td>\n",
       "      <td>7</td>\n",
       "      <td>6</td>\n",
       "    </tr>\n",
       "    <tr>\n",
       "      <th>4</th>\n",
       "      <td>289461</td>\n",
       "      <td>N</td>\n",
       "      <td>ES</td>\n",
       "      <td>H</td>\n",
       "      <td>2004-11-05</td>\n",
       "      <td>1.0</td>\n",
       "      <td>UNKNOWN</td>\n",
       "      <td>1</td>\n",
       "      <td>A</td>\n",
       "      <td>S</td>\n",
       "      <td>...</td>\n",
       "      <td>N</td>\n",
       "      <td>MADRID</td>\n",
       "      <td>1.0</td>\n",
       "      <td>01 - TOP</td>\n",
       "      <td>132.0</td>\n",
       "      <td>83</td>\n",
       "      <td>0.0</td>\n",
       "      <td>102882.15</td>\n",
       "      <td>2</td>\n",
       "      <td>6</td>\n",
       "    </tr>\n",
       "  </tbody>\n",
       "</table>\n",
       "<p>5 rows × 23 columns</p>\n",
       "</div>"
      ],
      "text/plain": [
       "   ncodpers ind_empleado pais_residencia sexo fecha_alta  indrel  \\\n",
       "0    307567            N              ES    H 2001-12-14     1.0   \n",
       "1    307567            N              ES    H 2001-12-14     1.0   \n",
       "2    241712            N              ES    V 2001-04-23     1.0   \n",
       "3    241712            N              ES    V 2001-04-23     1.0   \n",
       "4    289461            N              ES    H 2004-11-05     1.0   \n",
       "\n",
       "  ult_fec_cli_1t indrel_1mes tiprel_1mes indresi  ...   indfall nomprov  \\\n",
       "0        UNKNOWN           1           I       S  ...         N  MADRID   \n",
       "1        UNKNOWN           1           I       S  ...         N  MADRID   \n",
       "2        UNKNOWN           1           A       S  ...         N  MADRID   \n",
       "3        UNKNOWN           1           A       S  ...         N  MADRID   \n",
       "4        UNKNOWN           1           A       S  ...         N  MADRID   \n",
       "\n",
       "  ind_actividad_cliente           segmento antiguedad  age ind_nuevo  \\\n",
       "0                   0.0  02 - PARTICULARES      173.0   44       0.0   \n",
       "1                   0.0  02 - PARTICULARES      173.0   44       0.0   \n",
       "2                   1.0  02 - PARTICULARES      181.0   79       0.0   \n",
       "3                   1.0  02 - PARTICULARES      181.0   79       0.0   \n",
       "4                   1.0           01 - TOP      132.0   83       0.0   \n",
       "\n",
       "       renta  item_id  times  \n",
       "0   82130.55        2      6  \n",
       "1   82130.55        7      6  \n",
       "2   42072.51        2      6  \n",
       "3   42072.51        7      6  \n",
       "4  102882.15        2      6  \n",
       "\n",
       "[5 rows x 23 columns]"
      ]
     },
     "execution_count": 42,
     "metadata": {},
     "output_type": "execute_result"
    }
   ],
   "source": [
    "final.head()"
   ]
  },
  {
   "cell_type": "code",
   "execution_count": 44,
   "metadata": {},
   "outputs": [],
   "source": [
    "final = final[['ncodpers', 'ind_empleado', 'pais_residencia', 'sexo', 'age',\n",
    "       'fecha_alta', 'ind_nuevo', 'antiguedad', 'indrel', 'ult_fec_cli_1t',\n",
    "       'indrel_1mes', 'tiprel_1mes', 'indresi', 'indext', 'conyuemp',\n",
    "       'canal_entrada', 'indfall', 'nomprov', 'ind_actividad_cliente', 'renta',\n",
    "       'segmento', 'item_id','times']]"
   ]
  },
  {
   "cell_type": "code",
   "execution_count": 45,
   "metadata": {},
   "outputs": [],
   "source": [
    "final.to_csv('train.csv',index=None)"
   ]
  },
  {
   "cell_type": "code",
   "execution_count": 73,
   "metadata": {},
   "outputs": [],
   "source": [
    "data = data.drop(['index','fecha_dato','month'],1)"
   ]
  },
  {
   "cell_type": "code",
   "execution_count": 74,
   "metadata": {},
   "outputs": [
    {
     "data": {
      "text/plain": [
       "24"
      ]
     },
     "execution_count": 74,
     "metadata": {},
     "output_type": "execute_result"
    }
   ],
   "source": [
    "product.shape[0]"
   ]
  },
  {
   "cell_type": "code",
   "execution_count": 76,
   "metadata": {},
   "outputs": [],
   "source": [
    "test_li = []\n",
    "k = data.ncodpers\n",
    "for i in k:\n",
    "    for j in range(product.shape[0]):\n",
    "        tmp = np.array([i,j])\n",
    "        test_li.append(tmp)"
   ]
  },
  {
   "cell_type": "code",
   "execution_count": 77,
   "metadata": {},
   "outputs": [],
   "source": [
    "test_li = pd.DataFrame(np.array(test_li))"
   ]
  },
  {
   "cell_type": "code",
   "execution_count": 78,
   "metadata": {},
   "outputs": [],
   "source": [
    "test_li.columns = ['ncodpers','item_id']"
   ]
  },
  {
   "cell_type": "code",
   "execution_count": 164,
   "metadata": {
    "collapsed": true
   },
   "outputs": [
    {
     "data": {
      "text/html": [
       "<div>\n",
       "<style scoped>\n",
       "    .dataframe tbody tr th:only-of-type {\n",
       "        vertical-align: middle;\n",
       "    }\n",
       "\n",
       "    .dataframe tbody tr th {\n",
       "        vertical-align: top;\n",
       "    }\n",
       "\n",
       "    .dataframe thead th {\n",
       "        text-align: right;\n",
       "    }\n",
       "</style>\n",
       "<table border=\"1\" class=\"dataframe\">\n",
       "  <thead>\n",
       "    <tr style=\"text-align: right;\">\n",
       "      <th></th>\n",
       "      <th>ncodpers</th>\n",
       "      <th>ind_empleado</th>\n",
       "      <th>pais_residencia</th>\n",
       "      <th>sexo</th>\n",
       "      <th>age</th>\n",
       "      <th>fecha_alta</th>\n",
       "      <th>ind_nuevo</th>\n",
       "      <th>antiguedad</th>\n",
       "      <th>indrel</th>\n",
       "      <th>ult_fec_cli_1t</th>\n",
       "      <th>...</th>\n",
       "      <th>indresi</th>\n",
       "      <th>indext</th>\n",
       "      <th>conyuemp</th>\n",
       "      <th>canal_entrada</th>\n",
       "      <th>indfall</th>\n",
       "      <th>nomprov</th>\n",
       "      <th>ind_actividad_cliente</th>\n",
       "      <th>renta</th>\n",
       "      <th>segmento</th>\n",
       "      <th>item_id</th>\n",
       "    </tr>\n",
       "  </thead>\n",
       "  <tbody>\n",
       "    <tr>\n",
       "      <th>0</th>\n",
       "      <td>799826</td>\n",
       "      <td>N</td>\n",
       "      <td>ES</td>\n",
       "      <td>V</td>\n",
       "      <td>50</td>\n",
       "      <td>2008-10-02</td>\n",
       "      <td>0</td>\n",
       "      <td>92</td>\n",
       "      <td>1</td>\n",
       "      <td>UNKNOWN</td>\n",
       "      <td>...</td>\n",
       "      <td>S</td>\n",
       "      <td>N</td>\n",
       "      <td>UNKNOWN</td>\n",
       "      <td>KFC</td>\n",
       "      <td>N</td>\n",
       "      <td>BURGOS</td>\n",
       "      <td>0.0</td>\n",
       "      <td>89738.04</td>\n",
       "      <td>02 - PARTICULARES</td>\n",
       "      <td>ind_ahor_fin_ult1</td>\n",
       "    </tr>\n",
       "    <tr>\n",
       "      <th>1</th>\n",
       "      <td>799826</td>\n",
       "      <td>N</td>\n",
       "      <td>ES</td>\n",
       "      <td>V</td>\n",
       "      <td>50</td>\n",
       "      <td>2008-10-02</td>\n",
       "      <td>0</td>\n",
       "      <td>92</td>\n",
       "      <td>1</td>\n",
       "      <td>UNKNOWN</td>\n",
       "      <td>...</td>\n",
       "      <td>S</td>\n",
       "      <td>N</td>\n",
       "      <td>UNKNOWN</td>\n",
       "      <td>KFC</td>\n",
       "      <td>N</td>\n",
       "      <td>BURGOS</td>\n",
       "      <td>0.0</td>\n",
       "      <td>89738.04</td>\n",
       "      <td>02 - PARTICULARES</td>\n",
       "      <td>ind_aval_fin_ult1</td>\n",
       "    </tr>\n",
       "    <tr>\n",
       "      <th>2</th>\n",
       "      <td>799826</td>\n",
       "      <td>N</td>\n",
       "      <td>ES</td>\n",
       "      <td>V</td>\n",
       "      <td>50</td>\n",
       "      <td>2008-10-02</td>\n",
       "      <td>0</td>\n",
       "      <td>92</td>\n",
       "      <td>1</td>\n",
       "      <td>UNKNOWN</td>\n",
       "      <td>...</td>\n",
       "      <td>S</td>\n",
       "      <td>N</td>\n",
       "      <td>UNKNOWN</td>\n",
       "      <td>KFC</td>\n",
       "      <td>N</td>\n",
       "      <td>BURGOS</td>\n",
       "      <td>0.0</td>\n",
       "      <td>89738.04</td>\n",
       "      <td>02 - PARTICULARES</td>\n",
       "      <td>ind_cco_fin_ult1</td>\n",
       "    </tr>\n",
       "    <tr>\n",
       "      <th>3</th>\n",
       "      <td>799826</td>\n",
       "      <td>N</td>\n",
       "      <td>ES</td>\n",
       "      <td>V</td>\n",
       "      <td>50</td>\n",
       "      <td>2008-10-02</td>\n",
       "      <td>0</td>\n",
       "      <td>92</td>\n",
       "      <td>1</td>\n",
       "      <td>UNKNOWN</td>\n",
       "      <td>...</td>\n",
       "      <td>S</td>\n",
       "      <td>N</td>\n",
       "      <td>UNKNOWN</td>\n",
       "      <td>KFC</td>\n",
       "      <td>N</td>\n",
       "      <td>BURGOS</td>\n",
       "      <td>0.0</td>\n",
       "      <td>89738.04</td>\n",
       "      <td>02 - PARTICULARES</td>\n",
       "      <td>ind_cder_fin_ult1</td>\n",
       "    </tr>\n",
       "    <tr>\n",
       "      <th>4</th>\n",
       "      <td>799826</td>\n",
       "      <td>N</td>\n",
       "      <td>ES</td>\n",
       "      <td>V</td>\n",
       "      <td>50</td>\n",
       "      <td>2008-10-02</td>\n",
       "      <td>0</td>\n",
       "      <td>92</td>\n",
       "      <td>1</td>\n",
       "      <td>UNKNOWN</td>\n",
       "      <td>...</td>\n",
       "      <td>S</td>\n",
       "      <td>N</td>\n",
       "      <td>UNKNOWN</td>\n",
       "      <td>KFC</td>\n",
       "      <td>N</td>\n",
       "      <td>BURGOS</td>\n",
       "      <td>0.0</td>\n",
       "      <td>89738.04</td>\n",
       "      <td>02 - PARTICULARES</td>\n",
       "      <td>ind_cno_fin_ult1</td>\n",
       "    </tr>\n",
       "  </tbody>\n",
       "</table>\n",
       "<p>5 rows × 22 columns</p>\n",
       "</div>"
      ],
      "text/plain": [
       "   ncodpers ind_empleado pais_residencia sexo  age fecha_alta  ind_nuevo  \\\n",
       "0    799826            N              ES    V   50 2008-10-02          0   \n",
       "1    799826            N              ES    V   50 2008-10-02          0   \n",
       "2    799826            N              ES    V   50 2008-10-02          0   \n",
       "3    799826            N              ES    V   50 2008-10-02          0   \n",
       "4    799826            N              ES    V   50 2008-10-02          0   \n",
       "\n",
       "   antiguedad  indrel ult_fec_cli_1t        ...         indresi indext  \\\n",
       "0          92       1        UNKNOWN        ...               S      N   \n",
       "1          92       1        UNKNOWN        ...               S      N   \n",
       "2          92       1        UNKNOWN        ...               S      N   \n",
       "3          92       1        UNKNOWN        ...               S      N   \n",
       "4          92       1        UNKNOWN        ...               S      N   \n",
       "\n",
       "  conyuemp canal_entrada indfall nomprov ind_actividad_cliente     renta  \\\n",
       "0  UNKNOWN           KFC       N  BURGOS                   0.0  89738.04   \n",
       "1  UNKNOWN           KFC       N  BURGOS                   0.0  89738.04   \n",
       "2  UNKNOWN           KFC       N  BURGOS                   0.0  89738.04   \n",
       "3  UNKNOWN           KFC       N  BURGOS                   0.0  89738.04   \n",
       "4  UNKNOWN           KFC       N  BURGOS                   0.0  89738.04   \n",
       "\n",
       "            segmento            item_id  \n",
       "0  02 - PARTICULARES  ind_ahor_fin_ult1  \n",
       "1  02 - PARTICULARES  ind_aval_fin_ult1  \n",
       "2  02 - PARTICULARES   ind_cco_fin_ult1  \n",
       "3  02 - PARTICULARES  ind_cder_fin_ult1  \n",
       "4  02 - PARTICULARES   ind_cno_fin_ult1  \n",
       "\n",
       "[5 rows x 22 columns]"
      ]
     },
     "execution_count": 164,
     "metadata": {},
     "output_type": "execute_result"
    }
   ],
   "source": [
    "test_1.head()"
   ]
  },
  {
   "cell_type": "code",
   "execution_count": 79,
   "metadata": {},
   "outputs": [],
   "source": [
    "test_li_1 = test_li.iloc[:4462160,:]"
   ]
  },
  {
   "cell_type": "code",
   "execution_count": 92,
   "metadata": {},
   "outputs": [],
   "source": [
    "test_li_1.ncodpers = test_li_1.ncodpers.astype(np.int64)\n",
    "test_1 = pd.merge(data,test_li_1,on='ncodpers')"
   ]
  },
  {
   "cell_type": "code",
   "execution_count": 93,
   "metadata": {},
   "outputs": [],
   "source": [
    "test_1.to_csv('test_5.csv',index=None)"
   ]
  },
  {
   "cell_type": "code",
   "execution_count": 82,
   "metadata": {},
   "outputs": [],
   "source": [
    "test_li_1 = test_li.iloc[4462160:8924320,:]"
   ]
  },
  {
   "cell_type": "code",
   "execution_count": 85,
   "metadata": {},
   "outputs": [],
   "source": [
    "test_li_1 = test_li.iloc[8924320:13386480,:]"
   ]
  },
  {
   "cell_type": "code",
   "execution_count": 88,
   "metadata": {},
   "outputs": [],
   "source": [
    "test_li_1 = test_li.iloc[13386480:17848640,:]"
   ]
  },
  {
   "cell_type": "code",
   "execution_count": 91,
   "metadata": {},
   "outputs": [],
   "source": [
    "test_li_1 = test_li.iloc[17848640:,:]"
   ]
  },
  {
   "cell_type": "code",
   "execution_count": 95,
   "metadata": {
    "scrolled": true
   },
   "outputs": [],
   "source": [
    "# import pandas as pd\n",
    "# data =  pd.read_csv('train.csv',dtype=object)\n",
    "# test = pd.read_csv('test_1.csv',dtype=object)"
   ]
  }
 ],
 "metadata": {
  "kernelspec": {
   "display_name": "Python 3",
   "language": "python",
   "name": "python3"
  },
  "language_info": {
   "codemirror_mode": {
    "name": "ipython",
    "version": 3
   },
   "file_extension": ".py",
   "mimetype": "text/x-python",
   "name": "python",
   "nbconvert_exporter": "python",
   "pygments_lexer": "ipython3",
   "version": "3.7.1"
  }
 },
 "nbformat": 4,
 "nbformat_minor": 2
}
